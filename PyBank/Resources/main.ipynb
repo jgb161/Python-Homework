{
 "cells": [
  {
   "cell_type": "code",
   "execution_count": 1,
   "id": "ca434402-e35e-48c5-b417-73155b51c5f7",
   "metadata": {},
   "outputs": [],
   "source": [
    "#dependencies\n",
    "import csv\n",
    "from pathlib import Path"
   ]
  },
  {
   "cell_type": "code",
   "execution_count": 2,
   "id": "380e54e9-23d9-4984-b244-32195bcb03a4",
   "metadata": {},
   "outputs": [],
   "source": [
    "#files to upload \n",
    "file_to_load = Path(\"budget_data.csv\")\n",
    "file_to_output = Path(\"budget_analysis.txt\")"
   ]
  },
  {
   "cell_type": "code",
   "execution_count": 3,
   "id": "8c1105b1-909b-4a64-bdc4-15c386c88fdd",
   "metadata": {},
   "outputs": [],
   "source": [
    "#setting variables\n",
    "total_months = 0\n",
    "month_of_change = []\n",
    "net_change_list = []\n",
    "greatest_increase = [\"\", 0]\n",
    "greatest_decrease = [\"\", 0]\n",
    "total_net = 0"
   ]
  },
  {
   "cell_type": "code",
   "execution_count": 4,
   "id": "27d33855-d357-4333-9201-91b5d64551f0",
   "metadata": {},
   "outputs": [
    {
     "data": {
      "text/plain": [
       "'\\nOpen file to load\\nRead in the header, then read in first row and save the date from first row\\nSet up a for loop through the csvfile that was loaded and do 2 main things:\\n1) Track total month, net_change, and append all changes to the net_change_list\\n2) Determine if the net_change is the greatest increase or decrease using a conditional (if) statement, and then save the greatest increase and decrease\\nnet_change = row your on[1] - previous row[1]\\nCalculate the average change month over month\\nWrite to text file (defined above as file_to_output)\\n'"
      ]
     },
     "execution_count": 4,
     "metadata": {},
     "output_type": "execute_result"
    }
   ],
   "source": [
    "\"\"\"\n",
    "Open file to load\n",
    "Read in the header, then read in first row and save the date from first row\n",
    "Set up a for loop through the csvfile that was loaded and do 2 main things:\n",
    "1) Track total month, net_change, and append all changes to the net_change_list\n",
    "2) Determine if the net_change is the greatest increase or decrease using a conditional (if) statement, and then save the greatest increase and decrease\n",
    "net_change = row your on[1] - previous row[1]\n",
    "Calculate the average change month over month\n",
    "Write to text file (defined above as file_to_output)\n",
    "\"\"\""
   ]
  },
  {
   "cell_type": "code",
   "execution_count": 5,
   "id": "60e657d5-e091-4beb-a288-ec45f006a575",
   "metadata": {},
   "outputs": [],
   "source": [
    "#read csv file\n",
    "with open(file_to_load) as budget_data:\n",
    "    readcsv = csv.reader(budget_data)\n",
    "#read in header and first row of data\n",
    "    header = next(readcsv)\n",
    "    first_row = next(readcsv)\n",
    "    total_months += 1\n",
    "    total_net = int(first_row[1])\n",
    "    last_month = int(first_row[1])\n",
    "    \n",
    "#start a for loop to calculate remaining rows\n",
    "    for row in readcsv:\n",
    "        total_months += 1\n",
    "        total_net = total_net + int(row[1])\n",
    "\n",
    "#tracking net change\n",
    "        net_change = int(row[1]) - last_month\n",
    "        last_month = int(row[1])\n",
    "        net_change_list.append(net_change)\n",
    "        \n",
    "#calculate greatest increase and decrease\n",
    "        if net_change > greatest_increase[1]:\n",
    "            greatest_increase[0] = row[0]\n",
    "            greatest_increase[1] = net_change\n",
    "            \n",
    "        if net_change < greatest_decrease[1]:\n",
    "            greatest_decrease[0] = row[0]\n",
    "            greatest_decrease[1] = net_change"
   ]
  },
  {
   "cell_type": "code",
   "execution_count": 6,
   "id": "1f8549c0-532b-467e-8c54-2b2a82288bc7",
   "metadata": {},
   "outputs": [],
   "source": [
    "#calculate average net change\n",
    "monthly_net_change = sum(net_change_list)/len(net_change_list)"
   ]
  },
  {
   "cell_type": "code",
   "execution_count": 7,
   "id": "05585a1b-fe77-4fb1-9ff5-a1d9bf03d28d",
   "metadata": {},
   "outputs": [
    {
     "name": "stdout",
     "output_type": "stream",
     "text": [
      "Financial Analysis\n",
      "-----------------------\n",
      "Total Months:  86\n",
      "Net Profit/Loss: $ 38382578\n",
      "Average Change: $ -2315.12\n",
      "Greatest Increase in Profits: Feb-2012 $1926159\n",
      "Greatest Decrease in Profits: Sep-2013 $-2196167\n"
     ]
    }
   ],
   "source": [
    "#print results\n",
    "print(\"Financial Analysis\")\n",
    "print(\"-----------------------\")\n",
    "print(f\"Total Months:  {total_months}\")\n",
    "print(f\"Net Profit/Loss: $ {total_net}\")\n",
    "print(f\"Average Change: $ {monthly_net_change: .2f}\")\n",
    "print(f\"Greatest Increase in Profits: {greatest_increase[0]} ${greatest_increase[1]}\")\n",
    "print(f\"Greatest Decrease in Profits: {greatest_decrease[0]} ${greatest_decrease[1]}\")"
   ]
  },
  {
   "cell_type": "code",
   "execution_count": 8,
   "id": "45a0d646-0296-4dbd-8a56-74db7899ed2a",
   "metadata": {},
   "outputs": [],
   "source": [
    "#print results to text file\n",
    "with open(file_to_output, \"w\") as txt_file:\n",
    "    txt_file.write(f\"Financial Analysis\\n\")\n",
    "    txt_file.write(f\"----------------------------\\n\")\n",
    "    txt_file.write(f\"Total Months: {total_months}\\n\")\n",
    "    txt_file.write(f\"Total: ${total_net}\\n\")\n",
    "    txt_file.write(f\"Average  Change: ${monthly_net_change: .2f}\\n\")\n",
    "    txt_file.write(f\"Greatest Increase in Profits: {greatest_increase[0]} (${greatest_increase[1]})\\n\")\n",
    "    txt_file.write(f\"Greatest Decrease in Profits: {greatest_decrease[0]} (${greatest_decrease[1]})\\n\")"
   ]
  }
 ],
 "metadata": {
  "kernelspec": {
   "display_name": "Python 3 (ipykernel)",
   "language": "python",
   "name": "python3"
  },
  "language_info": {
   "codemirror_mode": {
    "name": "ipython",
    "version": 3
   },
   "file_extension": ".py",
   "mimetype": "text/x-python",
   "name": "python",
   "nbconvert_exporter": "python",
   "pygments_lexer": "ipython3",
   "version": "3.7.11"
  }
 },
 "nbformat": 4,
 "nbformat_minor": 5
}
